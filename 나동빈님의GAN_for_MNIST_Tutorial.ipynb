{
  "nbformat": 4,
  "nbformat_minor": 0,
  "metadata": {
    "accelerator": "GPU",
    "colab": {
      "name": "나동빈님의GAN for MNIST Tutorial",
      "provenance": [],
      "collapsed_sections": [],
      "toc_visible": true,
      "include_colab_link": true
    },
    "kernelspec": {
      "display_name": "Python 3",
      "name": "python3"
    },
    "widgets": {
      "application/vnd.jupyter.widget-state+json": {
        "33ecfc5803c94a81b42d812eb9a76f9a": {
          "model_module": "@jupyter-widgets/controls",
          "model_name": "HBoxModel",
          "state": {
            "_view_name": "HBoxView",
            "_dom_classes": [],
            "_model_name": "HBoxModel",
            "_view_module": "@jupyter-widgets/controls",
            "_model_module_version": "1.5.0",
            "_view_count": null,
            "_view_module_version": "1.5.0",
            "box_style": "",
            "layout": "IPY_MODEL_0dec240d104343f6a67b7014b6c4d221",
            "_model_module": "@jupyter-widgets/controls",
            "children": [
              "IPY_MODEL_27d98bac01ac4f52ba3024e3940e3eb4",
              "IPY_MODEL_656bdcbff17e4aefb624f38ee82ad701"
            ]
          }
        },
        "0dec240d104343f6a67b7014b6c4d221": {
          "model_module": "@jupyter-widgets/base",
          "model_name": "LayoutModel",
          "state": {
            "_view_name": "LayoutView",
            "grid_template_rows": null,
            "right": null,
            "justify_content": null,
            "_view_module": "@jupyter-widgets/base",
            "overflow": null,
            "_model_module_version": "1.2.0",
            "_view_count": null,
            "flex_flow": null,
            "width": null,
            "min_width": null,
            "border": null,
            "align_items": null,
            "bottom": null,
            "_model_module": "@jupyter-widgets/base",
            "top": null,
            "grid_column": null,
            "overflow_y": null,
            "overflow_x": null,
            "grid_auto_flow": null,
            "grid_area": null,
            "grid_template_columns": null,
            "flex": null,
            "_model_name": "LayoutModel",
            "justify_items": null,
            "grid_row": null,
            "max_height": null,
            "align_content": null,
            "visibility": null,
            "align_self": null,
            "height": null,
            "min_height": null,
            "padding": null,
            "grid_auto_rows": null,
            "grid_gap": null,
            "max_width": null,
            "order": null,
            "_view_module_version": "1.2.0",
            "grid_template_areas": null,
            "object_position": null,
            "object_fit": null,
            "grid_auto_columns": null,
            "margin": null,
            "display": null,
            "left": null
          }
        },
        "27d98bac01ac4f52ba3024e3940e3eb4": {
          "model_module": "@jupyter-widgets/controls",
          "model_name": "FloatProgressModel",
          "state": {
            "_view_name": "ProgressView",
            "style": "IPY_MODEL_c81d0bec250340ebbbbb39d43eec4637",
            "_dom_classes": [],
            "description": "",
            "_model_name": "FloatProgressModel",
            "bar_style": "info",
            "max": 1,
            "_view_module": "@jupyter-widgets/controls",
            "_model_module_version": "1.5.0",
            "value": 1,
            "_view_count": null,
            "_view_module_version": "1.5.0",
            "orientation": "horizontal",
            "min": 0,
            "description_tooltip": null,
            "_model_module": "@jupyter-widgets/controls",
            "layout": "IPY_MODEL_b4a7fb1a2c8141d5bcd24c890a7b8f40"
          }
        },
        "656bdcbff17e4aefb624f38ee82ad701": {
          "model_module": "@jupyter-widgets/controls",
          "model_name": "HTMLModel",
          "state": {
            "_view_name": "HTMLView",
            "style": "IPY_MODEL_c659c645b4d84d5bb79bc9213aec370e",
            "_dom_classes": [],
            "description": "",
            "_model_name": "HTMLModel",
            "placeholder": "​",
            "_view_module": "@jupyter-widgets/controls",
            "_model_module_version": "1.5.0",
            "value": " 9920512/? [00:20&lt;00:00, 1063784.13it/s]",
            "_view_count": null,
            "_view_module_version": "1.5.0",
            "description_tooltip": null,
            "_model_module": "@jupyter-widgets/controls",
            "layout": "IPY_MODEL_f8a7b6f6e51143ee920a4da6e813672f"
          }
        },
        "c81d0bec250340ebbbbb39d43eec4637": {
          "model_module": "@jupyter-widgets/controls",
          "model_name": "ProgressStyleModel",
          "state": {
            "_view_name": "StyleView",
            "_model_name": "ProgressStyleModel",
            "description_width": "initial",
            "_view_module": "@jupyter-widgets/base",
            "_model_module_version": "1.5.0",
            "_view_count": null,
            "_view_module_version": "1.2.0",
            "bar_color": null,
            "_model_module": "@jupyter-widgets/controls"
          }
        },
        "b4a7fb1a2c8141d5bcd24c890a7b8f40": {
          "model_module": "@jupyter-widgets/base",
          "model_name": "LayoutModel",
          "state": {
            "_view_name": "LayoutView",
            "grid_template_rows": null,
            "right": null,
            "justify_content": null,
            "_view_module": "@jupyter-widgets/base",
            "overflow": null,
            "_model_module_version": "1.2.0",
            "_view_count": null,
            "flex_flow": null,
            "width": null,
            "min_width": null,
            "border": null,
            "align_items": null,
            "bottom": null,
            "_model_module": "@jupyter-widgets/base",
            "top": null,
            "grid_column": null,
            "overflow_y": null,
            "overflow_x": null,
            "grid_auto_flow": null,
            "grid_area": null,
            "grid_template_columns": null,
            "flex": null,
            "_model_name": "LayoutModel",
            "justify_items": null,
            "grid_row": null,
            "max_height": null,
            "align_content": null,
            "visibility": null,
            "align_self": null,
            "height": null,
            "min_height": null,
            "padding": null,
            "grid_auto_rows": null,
            "grid_gap": null,
            "max_width": null,
            "order": null,
            "_view_module_version": "1.2.0",
            "grid_template_areas": null,
            "object_position": null,
            "object_fit": null,
            "grid_auto_columns": null,
            "margin": null,
            "display": null,
            "left": null
          }
        },
        "c659c645b4d84d5bb79bc9213aec370e": {
          "model_module": "@jupyter-widgets/controls",
          "model_name": "DescriptionStyleModel",
          "state": {
            "_view_name": "StyleView",
            "_model_name": "DescriptionStyleModel",
            "description_width": "",
            "_view_module": "@jupyter-widgets/base",
            "_model_module_version": "1.5.0",
            "_view_count": null,
            "_view_module_version": "1.2.0",
            "_model_module": "@jupyter-widgets/controls"
          }
        },
        "f8a7b6f6e51143ee920a4da6e813672f": {
          "model_module": "@jupyter-widgets/base",
          "model_name": "LayoutModel",
          "state": {
            "_view_name": "LayoutView",
            "grid_template_rows": null,
            "right": null,
            "justify_content": null,
            "_view_module": "@jupyter-widgets/base",
            "overflow": null,
            "_model_module_version": "1.2.0",
            "_view_count": null,
            "flex_flow": null,
            "width": null,
            "min_width": null,
            "border": null,
            "align_items": null,
            "bottom": null,
            "_model_module": "@jupyter-widgets/base",
            "top": null,
            "grid_column": null,
            "overflow_y": null,
            "overflow_x": null,
            "grid_auto_flow": null,
            "grid_area": null,
            "grid_template_columns": null,
            "flex": null,
            "_model_name": "LayoutModel",
            "justify_items": null,
            "grid_row": null,
            "max_height": null,
            "align_content": null,
            "visibility": null,
            "align_self": null,
            "height": null,
            "min_height": null,
            "padding": null,
            "grid_auto_rows": null,
            "grid_gap": null,
            "max_width": null,
            "order": null,
            "_view_module_version": "1.2.0",
            "grid_template_areas": null,
            "object_position": null,
            "object_fit": null,
            "grid_auto_columns": null,
            "margin": null,
            "display": null,
            "left": null
          }
        },
        "14d0985815a84fc290cc8a91fcbfcf39": {
          "model_module": "@jupyter-widgets/controls",
          "model_name": "HBoxModel",
          "state": {
            "_view_name": "HBoxView",
            "_dom_classes": [],
            "_model_name": "HBoxModel",
            "_view_module": "@jupyter-widgets/controls",
            "_model_module_version": "1.5.0",
            "_view_count": null,
            "_view_module_version": "1.5.0",
            "box_style": "",
            "layout": "IPY_MODEL_48570647c2324a7d8a4c37dd391151a6",
            "_model_module": "@jupyter-widgets/controls",
            "children": [
              "IPY_MODEL_3eecc9a5cc0d41f4b11bd60e8ba1a247",
              "IPY_MODEL_63e71e2430c443148ed6680ecf24f373"
            ]
          }
        },
        "48570647c2324a7d8a4c37dd391151a6": {
          "model_module": "@jupyter-widgets/base",
          "model_name": "LayoutModel",
          "state": {
            "_view_name": "LayoutView",
            "grid_template_rows": null,
            "right": null,
            "justify_content": null,
            "_view_module": "@jupyter-widgets/base",
            "overflow": null,
            "_model_module_version": "1.2.0",
            "_view_count": null,
            "flex_flow": null,
            "width": null,
            "min_width": null,
            "border": null,
            "align_items": null,
            "bottom": null,
            "_model_module": "@jupyter-widgets/base",
            "top": null,
            "grid_column": null,
            "overflow_y": null,
            "overflow_x": null,
            "grid_auto_flow": null,
            "grid_area": null,
            "grid_template_columns": null,
            "flex": null,
            "_model_name": "LayoutModel",
            "justify_items": null,
            "grid_row": null,
            "max_height": null,
            "align_content": null,
            "visibility": null,
            "align_self": null,
            "height": null,
            "min_height": null,
            "padding": null,
            "grid_auto_rows": null,
            "grid_gap": null,
            "max_width": null,
            "order": null,
            "_view_module_version": "1.2.0",
            "grid_template_areas": null,
            "object_position": null,
            "object_fit": null,
            "grid_auto_columns": null,
            "margin": null,
            "display": null,
            "left": null
          }
        },
        "3eecc9a5cc0d41f4b11bd60e8ba1a247": {
          "model_module": "@jupyter-widgets/controls",
          "model_name": "FloatProgressModel",
          "state": {
            "_view_name": "ProgressView",
            "style": "IPY_MODEL_bda3b786c29044cc92df56a8e52ee0bc",
            "_dom_classes": [],
            "description": "",
            "_model_name": "FloatProgressModel",
            "bar_style": "success",
            "max": 1,
            "_view_module": "@jupyter-widgets/controls",
            "_model_module_version": "1.5.0",
            "value": 1,
            "_view_count": null,
            "_view_module_version": "1.5.0",
            "orientation": "horizontal",
            "min": 0,
            "description_tooltip": null,
            "_model_module": "@jupyter-widgets/controls",
            "layout": "IPY_MODEL_911d0f444c4b4dfab69a888ef51c15f6"
          }
        },
        "63e71e2430c443148ed6680ecf24f373": {
          "model_module": "@jupyter-widgets/controls",
          "model_name": "HTMLModel",
          "state": {
            "_view_name": "HTMLView",
            "style": "IPY_MODEL_e3d7f2c76a3b4d658aabcef4f68dd2c3",
            "_dom_classes": [],
            "description": "",
            "_model_name": "HTMLModel",
            "placeholder": "​",
            "_view_module": "@jupyter-widgets/controls",
            "_model_module_version": "1.5.0",
            "value": " 32768/? [00:00&lt;00:00, 32919.68it/s]",
            "_view_count": null,
            "_view_module_version": "1.5.0",
            "description_tooltip": null,
            "_model_module": "@jupyter-widgets/controls",
            "layout": "IPY_MODEL_daceb1db5b6b4868b00711bcb5a1bbac"
          }
        },
        "bda3b786c29044cc92df56a8e52ee0bc": {
          "model_module": "@jupyter-widgets/controls",
          "model_name": "ProgressStyleModel",
          "state": {
            "_view_name": "StyleView",
            "_model_name": "ProgressStyleModel",
            "description_width": "initial",
            "_view_module": "@jupyter-widgets/base",
            "_model_module_version": "1.5.0",
            "_view_count": null,
            "_view_module_version": "1.2.0",
            "bar_color": null,
            "_model_module": "@jupyter-widgets/controls"
          }
        },
        "911d0f444c4b4dfab69a888ef51c15f6": {
          "model_module": "@jupyter-widgets/base",
          "model_name": "LayoutModel",
          "state": {
            "_view_name": "LayoutView",
            "grid_template_rows": null,
            "right": null,
            "justify_content": null,
            "_view_module": "@jupyter-widgets/base",
            "overflow": null,
            "_model_module_version": "1.2.0",
            "_view_count": null,
            "flex_flow": null,
            "width": null,
            "min_width": null,
            "border": null,
            "align_items": null,
            "bottom": null,
            "_model_module": "@jupyter-widgets/base",
            "top": null,
            "grid_column": null,
            "overflow_y": null,
            "overflow_x": null,
            "grid_auto_flow": null,
            "grid_area": null,
            "grid_template_columns": null,
            "flex": null,
            "_model_name": "LayoutModel",
            "justify_items": null,
            "grid_row": null,
            "max_height": null,
            "align_content": null,
            "visibility": null,
            "align_self": null,
            "height": null,
            "min_height": null,
            "padding": null,
            "grid_auto_rows": null,
            "grid_gap": null,
            "max_width": null,
            "order": null,
            "_view_module_version": "1.2.0",
            "grid_template_areas": null,
            "object_position": null,
            "object_fit": null,
            "grid_auto_columns": null,
            "margin": null,
            "display": null,
            "left": null
          }
        },
        "e3d7f2c76a3b4d658aabcef4f68dd2c3": {
          "model_module": "@jupyter-widgets/controls",
          "model_name": "DescriptionStyleModel",
          "state": {
            "_view_name": "StyleView",
            "_model_name": "DescriptionStyleModel",
            "description_width": "",
            "_view_module": "@jupyter-widgets/base",
            "_model_module_version": "1.5.0",
            "_view_count": null,
            "_view_module_version": "1.2.0",
            "_model_module": "@jupyter-widgets/controls"
          }
        },
        "daceb1db5b6b4868b00711bcb5a1bbac": {
          "model_module": "@jupyter-widgets/base",
          "model_name": "LayoutModel",
          "state": {
            "_view_name": "LayoutView",
            "grid_template_rows": null,
            "right": null,
            "justify_content": null,
            "_view_module": "@jupyter-widgets/base",
            "overflow": null,
            "_model_module_version": "1.2.0",
            "_view_count": null,
            "flex_flow": null,
            "width": null,
            "min_width": null,
            "border": null,
            "align_items": null,
            "bottom": null,
            "_model_module": "@jupyter-widgets/base",
            "top": null,
            "grid_column": null,
            "overflow_y": null,
            "overflow_x": null,
            "grid_auto_flow": null,
            "grid_area": null,
            "grid_template_columns": null,
            "flex": null,
            "_model_name": "LayoutModel",
            "justify_items": null,
            "grid_row": null,
            "max_height": null,
            "align_content": null,
            "visibility": null,
            "align_self": null,
            "height": null,
            "min_height": null,
            "padding": null,
            "grid_auto_rows": null,
            "grid_gap": null,
            "max_width": null,
            "order": null,
            "_view_module_version": "1.2.0",
            "grid_template_areas": null,
            "object_position": null,
            "object_fit": null,
            "grid_auto_columns": null,
            "margin": null,
            "display": null,
            "left": null
          }
        },
        "6f62c691008447d69169cfa743a20c0c": {
          "model_module": "@jupyter-widgets/controls",
          "model_name": "HBoxModel",
          "state": {
            "_view_name": "HBoxView",
            "_dom_classes": [],
            "_model_name": "HBoxModel",
            "_view_module": "@jupyter-widgets/controls",
            "_model_module_version": "1.5.0",
            "_view_count": null,
            "_view_module_version": "1.5.0",
            "box_style": "",
            "layout": "IPY_MODEL_bc206c03de1f4d6f9e90801ad8d09833",
            "_model_module": "@jupyter-widgets/controls",
            "children": [
              "IPY_MODEL_84ae874c0d3b4a46ada1d0f488d2ccbe",
              "IPY_MODEL_fc49176d5f294959a1e2a5e32667743c"
            ]
          }
        },
        "bc206c03de1f4d6f9e90801ad8d09833": {
          "model_module": "@jupyter-widgets/base",
          "model_name": "LayoutModel",
          "state": {
            "_view_name": "LayoutView",
            "grid_template_rows": null,
            "right": null,
            "justify_content": null,
            "_view_module": "@jupyter-widgets/base",
            "overflow": null,
            "_model_module_version": "1.2.0",
            "_view_count": null,
            "flex_flow": null,
            "width": null,
            "min_width": null,
            "border": null,
            "align_items": null,
            "bottom": null,
            "_model_module": "@jupyter-widgets/base",
            "top": null,
            "grid_column": null,
            "overflow_y": null,
            "overflow_x": null,
            "grid_auto_flow": null,
            "grid_area": null,
            "grid_template_columns": null,
            "flex": null,
            "_model_name": "LayoutModel",
            "justify_items": null,
            "grid_row": null,
            "max_height": null,
            "align_content": null,
            "visibility": null,
            "align_self": null,
            "height": null,
            "min_height": null,
            "padding": null,
            "grid_auto_rows": null,
            "grid_gap": null,
            "max_width": null,
            "order": null,
            "_view_module_version": "1.2.0",
            "grid_template_areas": null,
            "object_position": null,
            "object_fit": null,
            "grid_auto_columns": null,
            "margin": null,
            "display": null,
            "left": null
          }
        },
        "84ae874c0d3b4a46ada1d0f488d2ccbe": {
          "model_module": "@jupyter-widgets/controls",
          "model_name": "FloatProgressModel",
          "state": {
            "_view_name": "ProgressView",
            "style": "IPY_MODEL_2290ab3fe60a4b899b3cb123cca22d69",
            "_dom_classes": [],
            "description": "",
            "_model_name": "FloatProgressModel",
            "bar_style": "success",
            "max": 1,
            "_view_module": "@jupyter-widgets/controls",
            "_model_module_version": "1.5.0",
            "value": 1,
            "_view_count": null,
            "_view_module_version": "1.5.0",
            "orientation": "horizontal",
            "min": 0,
            "description_tooltip": null,
            "_model_module": "@jupyter-widgets/controls",
            "layout": "IPY_MODEL_10b7f6d8f9ed4eae9c9a80007cc06e52"
          }
        },
        "fc49176d5f294959a1e2a5e32667743c": {
          "model_module": "@jupyter-widgets/controls",
          "model_name": "HTMLModel",
          "state": {
            "_view_name": "HTMLView",
            "style": "IPY_MODEL_fbd849359d9b4b6fbc735a8dfe2e237c",
            "_dom_classes": [],
            "description": "",
            "_model_name": "HTMLModel",
            "placeholder": "​",
            "_view_module": "@jupyter-widgets/controls",
            "_model_module_version": "1.5.0",
            "value": " 1654784/? [00:00&lt;00:00, 2264433.36it/s]",
            "_view_count": null,
            "_view_module_version": "1.5.0",
            "description_tooltip": null,
            "_model_module": "@jupyter-widgets/controls",
            "layout": "IPY_MODEL_89efc19c1d5b47009b0a4489116b5cec"
          }
        },
        "2290ab3fe60a4b899b3cb123cca22d69": {
          "model_module": "@jupyter-widgets/controls",
          "model_name": "ProgressStyleModel",
          "state": {
            "_view_name": "StyleView",
            "_model_name": "ProgressStyleModel",
            "description_width": "initial",
            "_view_module": "@jupyter-widgets/base",
            "_model_module_version": "1.5.0",
            "_view_count": null,
            "_view_module_version": "1.2.0",
            "bar_color": null,
            "_model_module": "@jupyter-widgets/controls"
          }
        },
        "10b7f6d8f9ed4eae9c9a80007cc06e52": {
          "model_module": "@jupyter-widgets/base",
          "model_name": "LayoutModel",
          "state": {
            "_view_name": "LayoutView",
            "grid_template_rows": null,
            "right": null,
            "justify_content": null,
            "_view_module": "@jupyter-widgets/base",
            "overflow": null,
            "_model_module_version": "1.2.0",
            "_view_count": null,
            "flex_flow": null,
            "width": null,
            "min_width": null,
            "border": null,
            "align_items": null,
            "bottom": null,
            "_model_module": "@jupyter-widgets/base",
            "top": null,
            "grid_column": null,
            "overflow_y": null,
            "overflow_x": null,
            "grid_auto_flow": null,
            "grid_area": null,
            "grid_template_columns": null,
            "flex": null,
            "_model_name": "LayoutModel",
            "justify_items": null,
            "grid_row": null,
            "max_height": null,
            "align_content": null,
            "visibility": null,
            "align_self": null,
            "height": null,
            "min_height": null,
            "padding": null,
            "grid_auto_rows": null,
            "grid_gap": null,
            "max_width": null,
            "order": null,
            "_view_module_version": "1.2.0",
            "grid_template_areas": null,
            "object_position": null,
            "object_fit": null,
            "grid_auto_columns": null,
            "margin": null,
            "display": null,
            "left": null
          }
        },
        "fbd849359d9b4b6fbc735a8dfe2e237c": {
          "model_module": "@jupyter-widgets/controls",
          "model_name": "DescriptionStyleModel",
          "state": {
            "_view_name": "StyleView",
            "_model_name": "DescriptionStyleModel",
            "description_width": "",
            "_view_module": "@jupyter-widgets/base",
            "_model_module_version": "1.5.0",
            "_view_count": null,
            "_view_module_version": "1.2.0",
            "_model_module": "@jupyter-widgets/controls"
          }
        },
        "89efc19c1d5b47009b0a4489116b5cec": {
          "model_module": "@jupyter-widgets/base",
          "model_name": "LayoutModel",
          "state": {
            "_view_name": "LayoutView",
            "grid_template_rows": null,
            "right": null,
            "justify_content": null,
            "_view_module": "@jupyter-widgets/base",
            "overflow": null,
            "_model_module_version": "1.2.0",
            "_view_count": null,
            "flex_flow": null,
            "width": null,
            "min_width": null,
            "border": null,
            "align_items": null,
            "bottom": null,
            "_model_module": "@jupyter-widgets/base",
            "top": null,
            "grid_column": null,
            "overflow_y": null,
            "overflow_x": null,
            "grid_auto_flow": null,
            "grid_area": null,
            "grid_template_columns": null,
            "flex": null,
            "_model_name": "LayoutModel",
            "justify_items": null,
            "grid_row": null,
            "max_height": null,
            "align_content": null,
            "visibility": null,
            "align_self": null,
            "height": null,
            "min_height": null,
            "padding": null,
            "grid_auto_rows": null,
            "grid_gap": null,
            "max_width": null,
            "order": null,
            "_view_module_version": "1.2.0",
            "grid_template_areas": null,
            "object_position": null,
            "object_fit": null,
            "grid_auto_columns": null,
            "margin": null,
            "display": null,
            "left": null
          }
        },
        "549202dd56e7434dbf93f1317492cb02": {
          "model_module": "@jupyter-widgets/controls",
          "model_name": "HBoxModel",
          "state": {
            "_view_name": "HBoxView",
            "_dom_classes": [],
            "_model_name": "HBoxModel",
            "_view_module": "@jupyter-widgets/controls",
            "_model_module_version": "1.5.0",
            "_view_count": null,
            "_view_module_version": "1.5.0",
            "box_style": "",
            "layout": "IPY_MODEL_5e6edf04532441fcb6c84de171968a83",
            "_model_module": "@jupyter-widgets/controls",
            "children": [
              "IPY_MODEL_4729f2a52d394cbcbee643595db337de",
              "IPY_MODEL_1bf977e43c23494fb5238dd9a585a14e"
            ]
          }
        },
        "5e6edf04532441fcb6c84de171968a83": {
          "model_module": "@jupyter-widgets/base",
          "model_name": "LayoutModel",
          "state": {
            "_view_name": "LayoutView",
            "grid_template_rows": null,
            "right": null,
            "justify_content": null,
            "_view_module": "@jupyter-widgets/base",
            "overflow": null,
            "_model_module_version": "1.2.0",
            "_view_count": null,
            "flex_flow": null,
            "width": null,
            "min_width": null,
            "border": null,
            "align_items": null,
            "bottom": null,
            "_model_module": "@jupyter-widgets/base",
            "top": null,
            "grid_column": null,
            "overflow_y": null,
            "overflow_x": null,
            "grid_auto_flow": null,
            "grid_area": null,
            "grid_template_columns": null,
            "flex": null,
            "_model_name": "LayoutModel",
            "justify_items": null,
            "grid_row": null,
            "max_height": null,
            "align_content": null,
            "visibility": null,
            "align_self": null,
            "height": null,
            "min_height": null,
            "padding": null,
            "grid_auto_rows": null,
            "grid_gap": null,
            "max_width": null,
            "order": null,
            "_view_module_version": "1.2.0",
            "grid_template_areas": null,
            "object_position": null,
            "object_fit": null,
            "grid_auto_columns": null,
            "margin": null,
            "display": null,
            "left": null
          }
        },
        "4729f2a52d394cbcbee643595db337de": {
          "model_module": "@jupyter-widgets/controls",
          "model_name": "FloatProgressModel",
          "state": {
            "_view_name": "ProgressView",
            "style": "IPY_MODEL_987641a26d0e488f9f238f8c2a789046",
            "_dom_classes": [],
            "description": "  0%",
            "_model_name": "FloatProgressModel",
            "bar_style": "info",
            "max": 1,
            "_view_module": "@jupyter-widgets/controls",
            "_model_module_version": "1.5.0",
            "value": 0,
            "_view_count": null,
            "_view_module_version": "1.5.0",
            "orientation": "horizontal",
            "min": 0,
            "description_tooltip": null,
            "_model_module": "@jupyter-widgets/controls",
            "layout": "IPY_MODEL_a769e483abb844a49e2986faf84779d0"
          }
        },
        "1bf977e43c23494fb5238dd9a585a14e": {
          "model_module": "@jupyter-widgets/controls",
          "model_name": "HTMLModel",
          "state": {
            "_view_name": "HTMLView",
            "style": "IPY_MODEL_8448162bcdeb4fcaa334a86d5a26546a",
            "_dom_classes": [],
            "description": "",
            "_model_name": "HTMLModel",
            "placeholder": "​",
            "_view_module": "@jupyter-widgets/controls",
            "_model_module_version": "1.5.0",
            "value": " 0/4542 [00:00&lt;?, ?it/s]",
            "_view_count": null,
            "_view_module_version": "1.5.0",
            "description_tooltip": null,
            "_model_module": "@jupyter-widgets/controls",
            "layout": "IPY_MODEL_4f78d094165e414c96dd024565ec705f"
          }
        },
        "987641a26d0e488f9f238f8c2a789046": {
          "model_module": "@jupyter-widgets/controls",
          "model_name": "ProgressStyleModel",
          "state": {
            "_view_name": "StyleView",
            "_model_name": "ProgressStyleModel",
            "description_width": "initial",
            "_view_module": "@jupyter-widgets/base",
            "_model_module_version": "1.5.0",
            "_view_count": null,
            "_view_module_version": "1.2.0",
            "bar_color": null,
            "_model_module": "@jupyter-widgets/controls"
          }
        },
        "a769e483abb844a49e2986faf84779d0": {
          "model_module": "@jupyter-widgets/base",
          "model_name": "LayoutModel",
          "state": {
            "_view_name": "LayoutView",
            "grid_template_rows": null,
            "right": null,
            "justify_content": null,
            "_view_module": "@jupyter-widgets/base",
            "overflow": null,
            "_model_module_version": "1.2.0",
            "_view_count": null,
            "flex_flow": null,
            "width": null,
            "min_width": null,
            "border": null,
            "align_items": null,
            "bottom": null,
            "_model_module": "@jupyter-widgets/base",
            "top": null,
            "grid_column": null,
            "overflow_y": null,
            "overflow_x": null,
            "grid_auto_flow": null,
            "grid_area": null,
            "grid_template_columns": null,
            "flex": null,
            "_model_name": "LayoutModel",
            "justify_items": null,
            "grid_row": null,
            "max_height": null,
            "align_content": null,
            "visibility": null,
            "align_self": null,
            "height": null,
            "min_height": null,
            "padding": null,
            "grid_auto_rows": null,
            "grid_gap": null,
            "max_width": null,
            "order": null,
            "_view_module_version": "1.2.0",
            "grid_template_areas": null,
            "object_position": null,
            "object_fit": null,
            "grid_auto_columns": null,
            "margin": null,
            "display": null,
            "left": null
          }
        },
        "8448162bcdeb4fcaa334a86d5a26546a": {
          "model_module": "@jupyter-widgets/controls",
          "model_name": "DescriptionStyleModel",
          "state": {
            "_view_name": "StyleView",
            "_model_name": "DescriptionStyleModel",
            "description_width": "",
            "_view_module": "@jupyter-widgets/base",
            "_model_module_version": "1.5.0",
            "_view_count": null,
            "_view_module_version": "1.2.0",
            "_model_module": "@jupyter-widgets/controls"
          }
        },
        "4f78d094165e414c96dd024565ec705f": {
          "model_module": "@jupyter-widgets/base",
          "model_name": "LayoutModel",
          "state": {
            "_view_name": "LayoutView",
            "grid_template_rows": null,
            "right": null,
            "justify_content": null,
            "_view_module": "@jupyter-widgets/base",
            "overflow": null,
            "_model_module_version": "1.2.0",
            "_view_count": null,
            "flex_flow": null,
            "width": null,
            "min_width": null,
            "border": null,
            "align_items": null,
            "bottom": null,
            "_model_module": "@jupyter-widgets/base",
            "top": null,
            "grid_column": null,
            "overflow_y": null,
            "overflow_x": null,
            "grid_auto_flow": null,
            "grid_area": null,
            "grid_template_columns": null,
            "flex": null,
            "_model_name": "LayoutModel",
            "justify_items": null,
            "grid_row": null,
            "max_height": null,
            "align_content": null,
            "visibility": null,
            "align_self": null,
            "height": null,
            "min_height": null,
            "padding": null,
            "grid_auto_rows": null,
            "grid_gap": null,
            "max_width": null,
            "order": null,
            "_view_module_version": "1.2.0",
            "grid_template_areas": null,
            "object_position": null,
            "object_fit": null,
            "grid_auto_columns": null,
            "margin": null,
            "display": null,
            "left": null
          }
        }
      }
    }
  },
  "cells": [
    {
      "cell_type": "markdown",
      "metadata": {
        "id": "view-in-github",
        "colab_type": "text"
      },
      "source": [
        "<a href=\"https://colab.research.google.com/github/Jung0Jin/Jabdongsani/blob/master/%EB%82%98%EB%8F%99%EB%B9%88%EB%8B%98%EC%9D%98GAN_for_MNIST_Tutorial.ipynb\" target=\"_parent\"><img src=\"https://colab.research.google.com/assets/colab-badge.svg\" alt=\"Open In Colab\"/></a>"
      ]
    },
    {
      "cell_type": "markdown",
      "metadata": {
        "id": "u2nzPqP0sc8n"
      },
      "source": [
        "20210107 나동빈님의 GAN 논문 리뷰를 보았다\r\n",
        "\r\n",
        "출처: https://github.com/ndb796/Deep-Learning-Paper-Review-and-Practice/blob/master/code_practices/GAN_for_MNIST_Tutorial.ipynb\r\n",
        "\r\n"
      ]
    },
    {
      "cell_type": "markdown",
      "metadata": {
        "id": "xrUqXYEepD0o"
      },
      "source": [
        "#### <b>GAN 실습</b>\r\n",
        "\r\n",
        "* 논문 제목: Generative Adversarial Networks <b>(NIPS 2014)</b>\r\n",
        "* 가장 기본적인 GAN 모델을 학습해보는 실습을 진행합니다.\r\n",
        "* 학습 데이터셋: <b>MNIST</b> (1 X 28 X 28)"
      ]
    },
    {
      "cell_type": "markdown",
      "metadata": {
        "id": "UEx96DYOpdAK"
      },
      "source": [
        "#### <b>필요한 라이브러리 불러오기</b>\r\n",
        "\r\n",
        "* 실습을 위한 PyTorch 라이브러리를 불러옵니다."
      ]
    },
    {
      "cell_type": "code",
      "metadata": {
        "id": "CiRb7M3naHyo"
      },
      "source": [
        "import torch\r\n",
        "import torch.nn as nn\r\n",
        "\r\n",
        "from torchvision import datasets\r\n",
        "import torchvision.transforms as transforms\r\n",
        "from torchvision.utils import save_image"
      ],
      "execution_count": 1,
      "outputs": []
    },
    {
      "cell_type": "markdown",
      "metadata": {
        "id": "tp4hbA95pihv"
      },
      "source": [
        "#### <b>생성자(Generator) 및 판별자(Discriminator) 모델 정의</b>"
      ]
    },
    {
      "cell_type": "code",
      "metadata": {
        "id": "Hj5al6cTZES1"
      },
      "source": [
        "latent_dim = 100\r\n",
        "\r\n",
        "\r\n",
        "# 생성자(Generator) 클래스 정의\r\n",
        "class Generator(nn.Module):\r\n",
        "    def __init__(self):\r\n",
        "        super(Generator, self).__init__()\r\n",
        "\r\n",
        "        # 하나의 블록(block) 정의\r\n",
        "        def block(input_dim, output_dim, normalize=True):\r\n",
        "            layers = [nn.Linear(input_dim, output_dim)]\r\n",
        "            if normalize:\r\n",
        "                # 배치 정규화(batch normalization) 수행(차원 동일)\r\n",
        "                layers.append(nn.BatchNorm1d(output_dim, 0.8))\r\n",
        "            layers.append(nn.LeakyReLU(0.2, inplace=True))\r\n",
        "            return layers\r\n",
        "\r\n",
        "        # 생성자 모델은 연속적인 여러 개의 블록을 가짐\r\n",
        "        self.model = nn.Sequential(\r\n",
        "            *block(latent_dim, 128, normalize=False),\r\n",
        "            *block(128, 256),\r\n",
        "            *block(256, 512),\r\n",
        "            *block(512, 1024),\r\n",
        "            nn.Linear(1024, 1 * 28 * 28),\r\n",
        "            nn.Tanh()\r\n",
        "        )\r\n",
        "\r\n",
        "    def forward(self, z):\r\n",
        "        img = self.model(z)\r\n",
        "        img = img.view(img.size(0), 1, 28, 28)\r\n",
        "        return img"
      ],
      "execution_count": 2,
      "outputs": []
    },
    {
      "cell_type": "code",
      "metadata": {
        "id": "M_kvtvOhaLX6"
      },
      "source": [
        "# 판별자(Discriminator) 클래스 정의\r\n",
        "class Discriminator(nn.Module):\r\n",
        "    def __init__(self):\r\n",
        "        super(Discriminator, self).__init__()\r\n",
        "\r\n",
        "        self.model = nn.Sequential(\r\n",
        "            nn.Linear(1 * 28 * 28, 512),\r\n",
        "            nn.LeakyReLU(0.2, inplace=True),\r\n",
        "            nn.Linear(512, 256),\r\n",
        "            nn.LeakyReLU(0.2, inplace=True),\r\n",
        "            nn.Linear(256, 1),\r\n",
        "            nn.Sigmoid(),\r\n",
        "        )\r\n",
        "\r\n",
        "    # 이미지에 대한 판별 결과를 반환\r\n",
        "    def forward(self, img):\r\n",
        "        flattened = img.view(img.size(0), -1)\r\n",
        "        output = self.model(flattened)\r\n",
        "\r\n",
        "        return output"
      ],
      "execution_count": 3,
      "outputs": []
    },
    {
      "cell_type": "markdown",
      "metadata": {
        "id": "NOilX0rBqJXn"
      },
      "source": [
        "#### <b>학습 데이터셋 불러오기</b>\r\n",
        "\r\n",
        "* 학습을 위해 MNIST 데이터셋을 불러옵니다."
      ]
    },
    {
      "cell_type": "code",
      "metadata": {
        "id": "HrhXIwtAqM7H",
        "colab": {
          "base_uri": "https://localhost:8080/",
          "height": 417,
          "referenced_widgets": [
            "33ecfc5803c94a81b42d812eb9a76f9a",
            "0dec240d104343f6a67b7014b6c4d221",
            "27d98bac01ac4f52ba3024e3940e3eb4",
            "656bdcbff17e4aefb624f38ee82ad701",
            "c81d0bec250340ebbbbb39d43eec4637",
            "b4a7fb1a2c8141d5bcd24c890a7b8f40",
            "c659c645b4d84d5bb79bc9213aec370e",
            "f8a7b6f6e51143ee920a4da6e813672f",
            "14d0985815a84fc290cc8a91fcbfcf39",
            "48570647c2324a7d8a4c37dd391151a6",
            "3eecc9a5cc0d41f4b11bd60e8ba1a247",
            "63e71e2430c443148ed6680ecf24f373",
            "bda3b786c29044cc92df56a8e52ee0bc",
            "911d0f444c4b4dfab69a888ef51c15f6",
            "e3d7f2c76a3b4d658aabcef4f68dd2c3",
            "daceb1db5b6b4868b00711bcb5a1bbac",
            "6f62c691008447d69169cfa743a20c0c",
            "bc206c03de1f4d6f9e90801ad8d09833",
            "84ae874c0d3b4a46ada1d0f488d2ccbe",
            "fc49176d5f294959a1e2a5e32667743c",
            "2290ab3fe60a4b899b3cb123cca22d69",
            "10b7f6d8f9ed4eae9c9a80007cc06e52",
            "fbd849359d9b4b6fbc735a8dfe2e237c",
            "89efc19c1d5b47009b0a4489116b5cec",
            "549202dd56e7434dbf93f1317492cb02",
            "5e6edf04532441fcb6c84de171968a83",
            "4729f2a52d394cbcbee643595db337de",
            "1bf977e43c23494fb5238dd9a585a14e",
            "987641a26d0e488f9f238f8c2a789046",
            "a769e483abb844a49e2986faf84779d0",
            "8448162bcdeb4fcaa334a86d5a26546a",
            "4f78d094165e414c96dd024565ec705f"
          ]
        },
        "outputId": "f0e70ad0-c827-4c86-d7f9-eee9cf720ea5"
      },
      "source": [
        "transforms_train = transforms.Compose([\r\n",
        "    transforms.Resize(28),\r\n",
        "    transforms.ToTensor(),\r\n",
        "    transforms.Normalize([0.5], [0.5])\r\n",
        "])\r\n",
        "\r\n",
        "train_dataset = datasets.MNIST(root=\"./dataset\", train=True, download=True, transform=transforms_train)\r\n",
        "dataloader = torch.utils.data.DataLoader(train_dataset, batch_size=128, shuffle=True, num_workers=4)"
      ],
      "execution_count": 4,
      "outputs": [
        {
          "output_type": "stream",
          "text": [
            "Downloading http://yann.lecun.com/exdb/mnist/train-images-idx3-ubyte.gz to ./dataset/MNIST/raw/train-images-idx3-ubyte.gz\n"
          ],
          "name": "stdout"
        },
        {
          "output_type": "display_data",
          "data": {
            "application/vnd.jupyter.widget-view+json": {
              "model_id": "33ecfc5803c94a81b42d812eb9a76f9a",
              "version_minor": 0,
              "version_major": 2
            },
            "text/plain": [
              "HBox(children=(FloatProgress(value=1.0, bar_style='info', max=1.0), HTML(value='')))"
            ]
          },
          "metadata": {
            "tags": []
          }
        },
        {
          "output_type": "stream",
          "text": [
            "Extracting ./dataset/MNIST/raw/train-images-idx3-ubyte.gz to ./dataset/MNIST/raw\n",
            "Downloading http://yann.lecun.com/exdb/mnist/train-labels-idx1-ubyte.gz to ./dataset/MNIST/raw/train-labels-idx1-ubyte.gz\n"
          ],
          "name": "stdout"
        },
        {
          "output_type": "display_data",
          "data": {
            "application/vnd.jupyter.widget-view+json": {
              "model_id": "14d0985815a84fc290cc8a91fcbfcf39",
              "version_minor": 0,
              "version_major": 2
            },
            "text/plain": [
              "HBox(children=(FloatProgress(value=1.0, bar_style='info', max=1.0), HTML(value='')))"
            ]
          },
          "metadata": {
            "tags": []
          }
        },
        {
          "output_type": "stream",
          "text": [
            "Extracting ./dataset/MNIST/raw/train-labels-idx1-ubyte.gz to ./dataset/MNIST/raw\n",
            "Downloading http://yann.lecun.com/exdb/mnist/t10k-images-idx3-ubyte.gz to ./dataset/MNIST/raw/t10k-images-idx3-ubyte.gz\n"
          ],
          "name": "stdout"
        },
        {
          "output_type": "display_data",
          "data": {
            "application/vnd.jupyter.widget-view+json": {
              "model_id": "6f62c691008447d69169cfa743a20c0c",
              "version_minor": 0,
              "version_major": 2
            },
            "text/plain": [
              "HBox(children=(FloatProgress(value=1.0, bar_style='info', max=1.0), HTML(value='')))"
            ]
          },
          "metadata": {
            "tags": []
          }
        },
        {
          "output_type": "stream",
          "text": [
            "Extracting ./dataset/MNIST/raw/t10k-images-idx3-ubyte.gz to ./dataset/MNIST/raw\n",
            "Downloading http://yann.lecun.com/exdb/mnist/t10k-labels-idx1-ubyte.gz to ./dataset/MNIST/raw/t10k-labels-idx1-ubyte.gz\n",
            "\n",
            "\n"
          ],
          "name": "stdout"
        },
        {
          "output_type": "display_data",
          "data": {
            "application/vnd.jupyter.widget-view+json": {
              "model_id": "549202dd56e7434dbf93f1317492cb02",
              "version_minor": 0,
              "version_major": 2
            },
            "text/plain": [
              "HBox(children=(FloatProgress(value=1.0, bar_style='info', max=1.0), HTML(value='')))"
            ]
          },
          "metadata": {
            "tags": []
          }
        },
        {
          "output_type": "stream",
          "text": [
            "Extracting ./dataset/MNIST/raw/t10k-labels-idx1-ubyte.gz to ./dataset/MNIST/raw\n",
            "Processing...\n",
            "Done!\n"
          ],
          "name": "stdout"
        },
        {
          "output_type": "stream",
          "text": [
            "/usr/local/lib/python3.6/dist-packages/torchvision/datasets/mnist.py:480: UserWarning: The given NumPy array is not writeable, and PyTorch does not support non-writeable tensors. This means you can write to the underlying (supposedly non-writeable) NumPy array using the tensor. You may want to copy the array to protect its data or make it writeable before converting it to a tensor. This type of warning will be suppressed for the rest of this program. (Triggered internally at  /pytorch/torch/csrc/utils/tensor_numpy.cpp:141.)\n",
            "  return torch.from_numpy(parsed.astype(m[2], copy=False)).view(*s)\n"
          ],
          "name": "stderr"
        }
      ]
    },
    {
      "cell_type": "markdown",
      "metadata": {
        "id": "K54Z7PNIqTkO"
      },
      "source": [
        "#### <b>모델 학습 및 샘플링</b>\r\n",
        "\r\n",
        "* 학습을 위해 생성자와 판별자 모델을 초기화합니다.\r\n",
        "* 적절한 하이퍼 파라미터를 설정합니다."
      ]
    },
    {
      "cell_type": "code",
      "metadata": {
        "id": "tBZf0BmBaN7l"
      },
      "source": [
        "# 생성자(generator)와 판별자(discriminator) 초기화\r\n",
        "generator = Generator()\r\n",
        "discriminator = Discriminator()\r\n",
        "\r\n",
        "generator.cuda()\r\n",
        "discriminator.cuda()\r\n",
        "\r\n",
        "# 손실 함수(loss function)\r\n",
        "adversarial_loss = nn.BCELoss()\r\n",
        "adversarial_loss.cuda()\r\n",
        "\r\n",
        "# 학습률(learning rate) 설정\r\n",
        "lr = 0.0002\r\n",
        "\r\n",
        "# 생성자와 판별자를 위한 최적화 함수\r\n",
        "optimizer_G = torch.optim.Adam(generator.parameters(), lr=lr, betas=(0.5, 0.999))\r\n",
        "optimizer_D = torch.optim.Adam(discriminator.parameters(), lr=lr, betas=(0.5, 0.999))"
      ],
      "execution_count": 5,
      "outputs": []
    },
    {
      "cell_type": "markdown",
      "metadata": {
        "id": "F9ThAQIOt-74"
      },
      "source": [
        "* 모델을 학습하면서 주기적으로 샘플링하여 결과를 확인할 수 있습니다."
      ]
    },
    {
      "cell_type": "code",
      "metadata": {
        "colab": {
          "base_uri": "https://localhost:8080/"
        },
        "id": "srQI5xI6ar-X",
        "outputId": "dc9cc3f8-a940-4b4f-9821-051acf872b89"
      },
      "source": [
        "import time\r\n",
        "\r\n",
        "n_epochs = 200 # 학습의 횟수(epoch) 설정\r\n",
        "sample_interval = 2000 # 몇 번의 배치(batch)마다 결과를 출력할 것인지 설정\r\n",
        "start_time = time.time()\r\n",
        "\r\n",
        "for epoch in range(n_epochs):\r\n",
        "    for i, (imgs, _) in enumerate(dataloader):\r\n",
        "\r\n",
        "        # 진짜(real) 이미지와 가짜(fake) 이미지에 대한 정답 레이블 생성\r\n",
        "        real = torch.cuda.FloatTensor(imgs.size(0), 1).fill_(1.0) # 진짜(real): 1\r\n",
        "        fake = torch.cuda.FloatTensor(imgs.size(0), 1).fill_(0.0) # 가짜(fake): 0\r\n",
        "\r\n",
        "        real_imgs = imgs.cuda()\r\n",
        "\r\n",
        "        \"\"\" 생성자(generator)를 학습합니다. \"\"\"\r\n",
        "        optimizer_G.zero_grad()\r\n",
        "\r\n",
        "        # 랜덤 노이즈(noise) 샘플링\r\n",
        "        z = torch.normal(mean=0, std=1, size=(imgs.shape[0], latent_dim)).cuda()\r\n",
        "\r\n",
        "        # 이미지 생성\r\n",
        "        generated_imgs = generator(z)\r\n",
        "\r\n",
        "        # 생성자(generator)의 손실(loss) 값 계산\r\n",
        "        g_loss = adversarial_loss(discriminator(generated_imgs), real)\r\n",
        "\r\n",
        "        # 생성자(generator) 업데이트\r\n",
        "        g_loss.backward()\r\n",
        "        optimizer_G.step()\r\n",
        "\r\n",
        "        \"\"\" 판별자(discriminator)를 학습합니다. \"\"\"\r\n",
        "        optimizer_D.zero_grad()\r\n",
        "\r\n",
        "        # 판별자(discriminator)의 손실(loss) 값 계산\r\n",
        "        real_loss = adversarial_loss(discriminator(real_imgs), real)\r\n",
        "        fake_loss = adversarial_loss(discriminator(generated_imgs.detach()), fake)\r\n",
        "        d_loss = (real_loss + fake_loss) / 2\r\n",
        "\r\n",
        "        # 판별자(discriminator) 업데이트\r\n",
        "        d_loss.backward()\r\n",
        "        optimizer_D.step()\r\n",
        "\r\n",
        "        done = epoch * len(dataloader) + i\r\n",
        "        if done % sample_interval == 0:\r\n",
        "            # 생성된 이미지 중에서 25개만 선택하여 5 X 5 격자 이미지에 출력\r\n",
        "            save_image(generated_imgs.data[:25], f\"{done}.png\", nrow=5, normalize=True)\r\n",
        "\r\n",
        "    # 하나의 epoch이 끝날 때마다 로그(log) 출력\r\n",
        "    print(f\"[Epoch {epoch}/{n_epochs}] [D loss: {d_loss.item():.6f}] [G loss: {g_loss.item():.6f}] [Elapsed time: {time.time() - start_time:.2f}s]\")"
      ],
      "execution_count": 6,
      "outputs": [
        {
          "output_type": "stream",
          "text": [
            "[Epoch 0/200] [D loss: 0.500490] [G loss: 1.141078] [Elapsed time: 14.38s]\n",
            "[Epoch 1/200] [D loss: 0.432938] [G loss: 1.523975] [Elapsed time: 28.53s]\n",
            "[Epoch 2/200] [D loss: 0.557246] [G loss: 2.223649] [Elapsed time: 42.51s]\n",
            "[Epoch 3/200] [D loss: 0.364569] [G loss: 1.162118] [Elapsed time: 56.52s]\n",
            "[Epoch 4/200] [D loss: 0.389937] [G loss: 0.845152] [Elapsed time: 70.34s]\n",
            "[Epoch 5/200] [D loss: 0.320162] [G loss: 0.908701] [Elapsed time: 84.07s]\n",
            "[Epoch 6/200] [D loss: 0.261746] [G loss: 1.748911] [Elapsed time: 97.73s]\n",
            "[Epoch 7/200] [D loss: 0.224059] [G loss: 2.044800] [Elapsed time: 111.14s]\n",
            "[Epoch 8/200] [D loss: 0.176518] [G loss: 1.655669] [Elapsed time: 124.50s]\n",
            "[Epoch 9/200] [D loss: 0.263068] [G loss: 2.317227] [Elapsed time: 137.91s]\n",
            "[Epoch 10/200] [D loss: 0.353367] [G loss: 0.947778] [Elapsed time: 151.15s]\n",
            "[Epoch 11/200] [D loss: 0.301543] [G loss: 3.409380] [Elapsed time: 164.58s]\n",
            "[Epoch 12/200] [D loss: 0.309011] [G loss: 1.429478] [Elapsed time: 178.12s]\n",
            "[Epoch 13/200] [D loss: 0.302339] [G loss: 4.140603] [Elapsed time: 191.39s]\n",
            "[Epoch 14/200] [D loss: 0.235907] [G loss: 1.512178] [Elapsed time: 204.56s]\n",
            "[Epoch 15/200] [D loss: 0.198180] [G loss: 1.435040] [Elapsed time: 217.82s]\n",
            "[Epoch 16/200] [D loss: 0.196105] [G loss: 1.416319] [Elapsed time: 231.29s]\n",
            "[Epoch 17/200] [D loss: 0.187976] [G loss: 2.060101] [Elapsed time: 244.71s]\n",
            "[Epoch 18/200] [D loss: 0.214464] [G loss: 2.943432] [Elapsed time: 258.05s]\n",
            "[Epoch 19/200] [D loss: 0.168145] [G loss: 1.887863] [Elapsed time: 271.22s]\n",
            "[Epoch 20/200] [D loss: 0.179336] [G loss: 2.793755] [Elapsed time: 284.47s]\n",
            "[Epoch 21/200] [D loss: 0.214787] [G loss: 1.760703] [Elapsed time: 297.69s]\n",
            "[Epoch 22/200] [D loss: 0.222855] [G loss: 1.639117] [Elapsed time: 310.66s]\n",
            "[Epoch 23/200] [D loss: 0.196451] [G loss: 2.602045] [Elapsed time: 323.86s]\n",
            "[Epoch 24/200] [D loss: 0.201026] [G loss: 3.747814] [Elapsed time: 337.26s]\n",
            "[Epoch 25/200] [D loss: 0.136139] [G loss: 2.514066] [Elapsed time: 350.79s]\n",
            "[Epoch 26/200] [D loss: 0.180641] [G loss: 2.006649] [Elapsed time: 363.98s]\n",
            "[Epoch 27/200] [D loss: 0.211960] [G loss: 1.621263] [Elapsed time: 376.74s]\n",
            "[Epoch 28/200] [D loss: 0.126311] [G loss: 2.394181] [Elapsed time: 389.40s]\n",
            "[Epoch 29/200] [D loss: 0.346568] [G loss: 0.806459] [Elapsed time: 401.95s]\n",
            "[Epoch 30/200] [D loss: 0.175552] [G loss: 2.602922] [Elapsed time: 414.59s]\n",
            "[Epoch 31/200] [D loss: 0.194359] [G loss: 2.138032] [Elapsed time: 427.01s]\n",
            "[Epoch 32/200] [D loss: 0.325816] [G loss: 1.057464] [Elapsed time: 439.25s]\n",
            "[Epoch 33/200] [D loss: 0.788579] [G loss: 0.319666] [Elapsed time: 451.81s]\n",
            "[Epoch 34/200] [D loss: 0.404960] [G loss: 6.017570] [Elapsed time: 464.54s]\n",
            "[Epoch 35/200] [D loss: 0.100498] [G loss: 3.592138] [Elapsed time: 476.94s]\n",
            "[Epoch 36/200] [D loss: 0.182636] [G loss: 1.831022] [Elapsed time: 489.46s]\n",
            "[Epoch 37/200] [D loss: 0.134594] [G loss: 2.917390] [Elapsed time: 502.21s]\n",
            "[Epoch 38/200] [D loss: 0.146705] [G loss: 1.932582] [Elapsed time: 514.76s]\n",
            "[Epoch 39/200] [D loss: 0.585329] [G loss: 1.423180] [Elapsed time: 527.32s]\n",
            "[Epoch 40/200] [D loss: 0.208197] [G loss: 1.722703] [Elapsed time: 540.02s]\n",
            "[Epoch 41/200] [D loss: 0.228923] [G loss: 5.407897] [Elapsed time: 552.60s]\n",
            "[Epoch 42/200] [D loss: 0.153187] [G loss: 1.905943] [Elapsed time: 564.98s]\n",
            "[Epoch 43/200] [D loss: 0.243581] [G loss: 5.850657] [Elapsed time: 577.48s]\n",
            "[Epoch 44/200] [D loss: 0.182411] [G loss: 2.823920] [Elapsed time: 589.76s]\n",
            "[Epoch 45/200] [D loss: 0.161310] [G loss: 3.116342] [Elapsed time: 602.09s]\n",
            "[Epoch 46/200] [D loss: 0.263861] [G loss: 1.959530] [Elapsed time: 614.44s]\n",
            "[Epoch 47/200] [D loss: 0.222566] [G loss: 1.326401] [Elapsed time: 626.91s]\n",
            "[Epoch 48/200] [D loss: 0.187081] [G loss: 3.030055] [Elapsed time: 639.41s]\n",
            "[Epoch 49/200] [D loss: 0.107145] [G loss: 5.059028] [Elapsed time: 651.89s]\n",
            "[Epoch 50/200] [D loss: 0.241175] [G loss: 2.511625] [Elapsed time: 664.10s]\n",
            "[Epoch 51/200] [D loss: 0.082857] [G loss: 2.878830] [Elapsed time: 676.26s]\n",
            "[Epoch 52/200] [D loss: 0.174953] [G loss: 1.805496] [Elapsed time: 688.43s]\n",
            "[Epoch 53/200] [D loss: 0.301893] [G loss: 1.349994] [Elapsed time: 700.72s]\n",
            "[Epoch 54/200] [D loss: 0.131535] [G loss: 3.179415] [Elapsed time: 713.53s]\n",
            "[Epoch 55/200] [D loss: 0.126970] [G loss: 3.039390] [Elapsed time: 726.02s]\n",
            "[Epoch 56/200] [D loss: 0.072735] [G loss: 3.467866] [Elapsed time: 738.48s]\n",
            "[Epoch 57/200] [D loss: 0.195756] [G loss: 4.047171] [Elapsed time: 750.76s]\n",
            "[Epoch 58/200] [D loss: 0.163688] [G loss: 3.347637] [Elapsed time: 763.37s]\n",
            "[Epoch 59/200] [D loss: 0.164516] [G loss: 2.159578] [Elapsed time: 776.09s]\n",
            "[Epoch 60/200] [D loss: 0.104167] [G loss: 2.196335] [Elapsed time: 788.86s]\n",
            "[Epoch 61/200] [D loss: 0.124284] [G loss: 4.164031] [Elapsed time: 801.68s]\n",
            "[Epoch 62/200] [D loss: 0.141054] [G loss: 2.398242] [Elapsed time: 814.45s]\n",
            "[Epoch 63/200] [D loss: 0.632263] [G loss: 9.807693] [Elapsed time: 827.20s]\n",
            "[Epoch 64/200] [D loss: 0.271699] [G loss: 1.045215] [Elapsed time: 839.84s]\n",
            "[Epoch 65/200] [D loss: 0.174861] [G loss: 1.749349] [Elapsed time: 852.58s]\n",
            "[Epoch 66/200] [D loss: 0.152727] [G loss: 2.411782] [Elapsed time: 865.27s]\n",
            "[Epoch 67/200] [D loss: 0.155560] [G loss: 2.889935] [Elapsed time: 878.15s]\n",
            "[Epoch 68/200] [D loss: 0.136309] [G loss: 2.823976] [Elapsed time: 891.52s]\n",
            "[Epoch 69/200] [D loss: 0.147313] [G loss: 2.929565] [Elapsed time: 904.83s]\n",
            "[Epoch 70/200] [D loss: 0.092301] [G loss: 2.774946] [Elapsed time: 918.14s]\n",
            "[Epoch 71/200] [D loss: 0.123006] [G loss: 3.866895] [Elapsed time: 931.32s]\n",
            "[Epoch 72/200] [D loss: 0.085261] [G loss: 2.651131] [Elapsed time: 944.63s]\n",
            "[Epoch 73/200] [D loss: 0.105827] [G loss: 2.735006] [Elapsed time: 958.54s]\n",
            "[Epoch 74/200] [D loss: 0.066053] [G loss: 3.166360] [Elapsed time: 972.15s]\n",
            "[Epoch 75/200] [D loss: 0.154941] [G loss: 2.611431] [Elapsed time: 985.83s]\n",
            "[Epoch 76/200] [D loss: 0.087197] [G loss: 2.809659] [Elapsed time: 999.42s]\n",
            "[Epoch 77/200] [D loss: 0.091570] [G loss: 3.848764] [Elapsed time: 1013.37s]\n",
            "[Epoch 78/200] [D loss: 0.053143] [G loss: 3.132683] [Elapsed time: 1027.08s]\n",
            "[Epoch 79/200] [D loss: 0.086351] [G loss: 2.630795] [Elapsed time: 1040.84s]\n",
            "[Epoch 80/200] [D loss: 0.153573] [G loss: 2.941183] [Elapsed time: 1054.82s]\n",
            "[Epoch 81/200] [D loss: 0.145648] [G loss: 3.730649] [Elapsed time: 1068.83s]\n",
            "[Epoch 82/200] [D loss: 0.108582] [G loss: 3.260267] [Elapsed time: 1082.76s]\n",
            "[Epoch 83/200] [D loss: 0.135494] [G loss: 2.505995] [Elapsed time: 1096.61s]\n",
            "[Epoch 84/200] [D loss: 0.066341] [G loss: 3.723844] [Elapsed time: 1110.76s]\n",
            "[Epoch 85/200] [D loss: 0.176389] [G loss: 5.441428] [Elapsed time: 1124.88s]\n",
            "[Epoch 86/200] [D loss: 0.119951] [G loss: 1.991407] [Elapsed time: 1138.92s]\n",
            "[Epoch 87/200] [D loss: 0.137338] [G loss: 5.157777] [Elapsed time: 1152.94s]\n",
            "[Epoch 88/200] [D loss: 0.242001] [G loss: 3.763321] [Elapsed time: 1166.63s]\n",
            "[Epoch 89/200] [D loss: 0.226726] [G loss: 4.412868] [Elapsed time: 1180.31s]\n",
            "[Epoch 90/200] [D loss: 0.185964] [G loss: 1.972883] [Elapsed time: 1193.97s]\n",
            "[Epoch 91/200] [D loss: 0.228152] [G loss: 3.524639] [Elapsed time: 1207.91s]\n",
            "[Epoch 92/200] [D loss: 0.201635] [G loss: 2.414129] [Elapsed time: 1222.11s]\n",
            "[Epoch 93/200] [D loss: 0.092940] [G loss: 3.465132] [Elapsed time: 1236.30s]\n",
            "[Epoch 94/200] [D loss: 0.118475] [G loss: 2.390113] [Elapsed time: 1250.48s]\n",
            "[Epoch 95/200] [D loss: 0.368187] [G loss: 0.968910] [Elapsed time: 1264.44s]\n",
            "[Epoch 96/200] [D loss: 0.228352] [G loss: 5.200809] [Elapsed time: 1278.24s]\n",
            "[Epoch 97/200] [D loss: 0.732253] [G loss: 9.321712] [Elapsed time: 1291.93s]\n",
            "[Epoch 98/200] [D loss: 0.151326] [G loss: 2.789502] [Elapsed time: 1305.77s]\n",
            "[Epoch 99/200] [D loss: 0.261927] [G loss: 1.941229] [Elapsed time: 1319.68s]\n",
            "[Epoch 100/200] [D loss: 0.143161] [G loss: 2.858352] [Elapsed time: 1333.53s]\n",
            "[Epoch 101/200] [D loss: 0.200055] [G loss: 3.394876] [Elapsed time: 1347.13s]\n",
            "[Epoch 102/200] [D loss: 0.215584] [G loss: 3.343863] [Elapsed time: 1360.76s]\n",
            "[Epoch 103/200] [D loss: 0.133924] [G loss: 2.562310] [Elapsed time: 1374.91s]\n",
            "[Epoch 104/200] [D loss: 0.221444] [G loss: 3.905633] [Elapsed time: 1388.95s]\n",
            "[Epoch 105/200] [D loss: 0.165546] [G loss: 2.662407] [Elapsed time: 1402.82s]\n",
            "[Epoch 106/200] [D loss: 0.230605] [G loss: 4.471879] [Elapsed time: 1416.66s]\n",
            "[Epoch 107/200] [D loss: 0.140015] [G loss: 2.562484] [Elapsed time: 1430.45s]\n",
            "[Epoch 108/200] [D loss: 0.139669] [G loss: 2.902936] [Elapsed time: 1444.22s]\n",
            "[Epoch 109/200] [D loss: 0.133131] [G loss: 3.563431] [Elapsed time: 1458.22s]\n",
            "[Epoch 110/200] [D loss: 0.099086] [G loss: 3.152567] [Elapsed time: 1472.01s]\n",
            "[Epoch 111/200] [D loss: 0.145425] [G loss: 3.394845] [Elapsed time: 1485.88s]\n",
            "[Epoch 112/200] [D loss: 0.157460] [G loss: 3.856945] [Elapsed time: 1499.68s]\n",
            "[Epoch 113/200] [D loss: 0.285902] [G loss: 6.259279] [Elapsed time: 1513.39s]\n",
            "[Epoch 114/200] [D loss: 0.130391] [G loss: 2.990681] [Elapsed time: 1527.24s]\n",
            "[Epoch 115/200] [D loss: 0.122268] [G loss: 3.689572] [Elapsed time: 1541.07s]\n",
            "[Epoch 116/200] [D loss: 0.258278] [G loss: 6.611571] [Elapsed time: 1554.89s]\n",
            "[Epoch 117/200] [D loss: 0.229694] [G loss: 2.076819] [Elapsed time: 1568.65s]\n",
            "[Epoch 118/200] [D loss: 0.228134] [G loss: 2.036850] [Elapsed time: 1582.67s]\n",
            "[Epoch 119/200] [D loss: 0.073101] [G loss: 5.407417] [Elapsed time: 1596.33s]\n",
            "[Epoch 120/200] [D loss: 0.201126] [G loss: 2.997772] [Elapsed time: 1609.96s]\n",
            "[Epoch 121/200] [D loss: 0.295178] [G loss: 1.488871] [Elapsed time: 1623.82s]\n",
            "[Epoch 122/200] [D loss: 0.324540] [G loss: 1.218891] [Elapsed time: 1637.61s]\n",
            "[Epoch 123/200] [D loss: 0.167738] [G loss: 2.896285] [Elapsed time: 1651.36s]\n",
            "[Epoch 124/200] [D loss: 0.147769] [G loss: 2.655076] [Elapsed time: 1664.97s]\n",
            "[Epoch 125/200] [D loss: 0.087961] [G loss: 4.267766] [Elapsed time: 1678.46s]\n",
            "[Epoch 126/200] [D loss: 0.160990] [G loss: 3.720775] [Elapsed time: 1691.94s]\n",
            "[Epoch 127/200] [D loss: 0.303247] [G loss: 4.572908] [Elapsed time: 1705.35s]\n",
            "[Epoch 128/200] [D loss: 0.124453] [G loss: 3.202384] [Elapsed time: 1718.72s]\n",
            "[Epoch 129/200] [D loss: 0.150037] [G loss: 3.483969] [Elapsed time: 1731.96s]\n",
            "[Epoch 130/200] [D loss: 0.436805] [G loss: 5.384696] [Elapsed time: 1745.28s]\n",
            "[Epoch 131/200] [D loss: 0.183942] [G loss: 2.707506] [Elapsed time: 1758.56s]\n",
            "[Epoch 132/200] [D loss: 0.231420] [G loss: 2.170542] [Elapsed time: 1772.00s]\n",
            "[Epoch 133/200] [D loss: 0.300648] [G loss: 4.239765] [Elapsed time: 1785.28s]\n",
            "[Epoch 134/200] [D loss: 0.198015] [G loss: 2.617916] [Elapsed time: 1798.29s]\n",
            "[Epoch 135/200] [D loss: 0.331161] [G loss: 1.253912] [Elapsed time: 1811.33s]\n",
            "[Epoch 136/200] [D loss: 0.124955] [G loss: 4.085779] [Elapsed time: 1824.30s]\n",
            "[Epoch 137/200] [D loss: 0.268584] [G loss: 1.757261] [Elapsed time: 1837.22s]\n",
            "[Epoch 138/200] [D loss: 0.193788] [G loss: 2.852008] [Elapsed time: 1850.11s]\n",
            "[Epoch 139/200] [D loss: 0.148600] [G loss: 2.193030] [Elapsed time: 1863.34s]\n",
            "[Epoch 140/200] [D loss: 0.270943] [G loss: 1.955656] [Elapsed time: 1876.47s]\n",
            "[Epoch 141/200] [D loss: 0.104209] [G loss: 3.029811] [Elapsed time: 1889.79s]\n",
            "[Epoch 142/200] [D loss: 0.153017] [G loss: 3.461414] [Elapsed time: 1902.77s]\n",
            "[Epoch 143/200] [D loss: 0.228787] [G loss: 2.098628] [Elapsed time: 1915.88s]\n",
            "[Epoch 144/200] [D loss: 0.090700] [G loss: 2.623734] [Elapsed time: 1928.89s]\n",
            "[Epoch 145/200] [D loss: 0.176085] [G loss: 2.300226] [Elapsed time: 1941.98s]\n",
            "[Epoch 146/200] [D loss: 0.225721] [G loss: 3.954356] [Elapsed time: 1955.01s]\n",
            "[Epoch 147/200] [D loss: 0.153449] [G loss: 4.516303] [Elapsed time: 1968.06s]\n",
            "[Epoch 148/200] [D loss: 0.201403] [G loss: 2.890583] [Elapsed time: 1980.97s]\n",
            "[Epoch 149/200] [D loss: 0.152733] [G loss: 2.141995] [Elapsed time: 1993.95s]\n",
            "[Epoch 150/200] [D loss: 0.096500] [G loss: 2.762647] [Elapsed time: 2007.00s]\n",
            "[Epoch 151/200] [D loss: 0.162241] [G loss: 2.785595] [Elapsed time: 2020.13s]\n",
            "[Epoch 152/200] [D loss: 0.158577] [G loss: 2.915098] [Elapsed time: 2033.29s]\n",
            "[Epoch 153/200] [D loss: 0.151263] [G loss: 2.265805] [Elapsed time: 2046.39s]\n",
            "[Epoch 154/200] [D loss: 0.668124] [G loss: 1.103024] [Elapsed time: 2059.56s]\n",
            "[Epoch 155/200] [D loss: 0.226881] [G loss: 2.975288] [Elapsed time: 2072.61s]\n",
            "[Epoch 156/200] [D loss: 0.137772] [G loss: 2.550164] [Elapsed time: 2085.65s]\n",
            "[Epoch 157/200] [D loss: 0.373278] [G loss: 7.386376] [Elapsed time: 2098.79s]\n",
            "[Epoch 158/200] [D loss: 0.084778] [G loss: 2.952440] [Elapsed time: 2112.02s]\n",
            "[Epoch 159/200] [D loss: 0.112704] [G loss: 3.423632] [Elapsed time: 2125.13s]\n",
            "[Epoch 160/200] [D loss: 0.115311] [G loss: 3.242607] [Elapsed time: 2138.24s]\n",
            "[Epoch 161/200] [D loss: 0.196351] [G loss: 4.058551] [Elapsed time: 2151.39s]\n",
            "[Epoch 162/200] [D loss: 0.184016] [G loss: 3.032884] [Elapsed time: 2164.52s]\n",
            "[Epoch 163/200] [D loss: 0.151372] [G loss: 3.111926] [Elapsed time: 2177.65s]\n",
            "[Epoch 164/200] [D loss: 0.140113] [G loss: 2.672920] [Elapsed time: 2190.86s]\n",
            "[Epoch 165/200] [D loss: 0.138635] [G loss: 3.726913] [Elapsed time: 2203.83s]\n",
            "[Epoch 166/200] [D loss: 0.193515] [G loss: 3.388217] [Elapsed time: 2216.88s]\n",
            "[Epoch 167/200] [D loss: 0.147750] [G loss: 3.398412] [Elapsed time: 2229.74s]\n",
            "[Epoch 168/200] [D loss: 0.086435] [G loss: 3.342470] [Elapsed time: 2242.69s]\n",
            "[Epoch 169/200] [D loss: 0.180936] [G loss: 1.943649] [Elapsed time: 2255.70s]\n",
            "[Epoch 170/200] [D loss: 0.246473] [G loss: 3.948952] [Elapsed time: 2268.84s]\n",
            "[Epoch 171/200] [D loss: 0.263873] [G loss: 5.008819] [Elapsed time: 2281.77s]\n",
            "[Epoch 172/200] [D loss: 0.139659] [G loss: 4.379250] [Elapsed time: 2294.65s]\n",
            "[Epoch 173/200] [D loss: 0.178894] [G loss: 3.475539] [Elapsed time: 2307.71s]\n",
            "[Epoch 174/200] [D loss: 0.186496] [G loss: 2.558977] [Elapsed time: 2320.64s]\n",
            "[Epoch 175/200] [D loss: 0.242034] [G loss: 4.277369] [Elapsed time: 2333.64s]\n",
            "[Epoch 176/200] [D loss: 0.141690] [G loss: 3.290982] [Elapsed time: 2346.74s]\n",
            "[Epoch 177/200] [D loss: 0.153401] [G loss: 3.380938] [Elapsed time: 2359.75s]\n",
            "[Epoch 178/200] [D loss: 0.198544] [G loss: 1.965240] [Elapsed time: 2372.74s]\n",
            "[Epoch 179/200] [D loss: 0.360684] [G loss: 5.150471] [Elapsed time: 2385.66s]\n",
            "[Epoch 180/200] [D loss: 0.174886] [G loss: 2.224839] [Elapsed time: 2398.60s]\n",
            "[Epoch 181/200] [D loss: 0.149250] [G loss: 3.689734] [Elapsed time: 2411.68s]\n",
            "[Epoch 182/200] [D loss: 0.233127] [G loss: 1.653883] [Elapsed time: 2424.88s]\n",
            "[Epoch 183/200] [D loss: 0.230358] [G loss: 2.496584] [Elapsed time: 2437.87s]\n",
            "[Epoch 184/200] [D loss: 0.125560] [G loss: 3.303003] [Elapsed time: 2450.83s]\n",
            "[Epoch 185/200] [D loss: 0.257814] [G loss: 4.532412] [Elapsed time: 2463.86s]\n",
            "[Epoch 186/200] [D loss: 0.239853] [G loss: 2.822504] [Elapsed time: 2476.80s]\n",
            "[Epoch 187/200] [D loss: 0.128769] [G loss: 2.977247] [Elapsed time: 2489.74s]\n",
            "[Epoch 188/200] [D loss: 0.117537] [G loss: 2.666622] [Elapsed time: 2503.06s]\n",
            "[Epoch 189/200] [D loss: 0.134847] [G loss: 2.913391] [Elapsed time: 2516.22s]\n",
            "[Epoch 190/200] [D loss: 0.189234] [G loss: 2.624681] [Elapsed time: 2529.25s]\n",
            "[Epoch 191/200] [D loss: 0.220908] [G loss: 2.015276] [Elapsed time: 2542.07s]\n",
            "[Epoch 192/200] [D loss: 0.137641] [G loss: 2.609702] [Elapsed time: 2555.01s]\n",
            "[Epoch 193/200] [D loss: 0.242395] [G loss: 4.329960] [Elapsed time: 2567.88s]\n",
            "[Epoch 194/200] [D loss: 0.214071] [G loss: 1.748603] [Elapsed time: 2580.72s]\n",
            "[Epoch 195/200] [D loss: 0.139265] [G loss: 2.528937] [Elapsed time: 2593.71s]\n",
            "[Epoch 196/200] [D loss: 0.184288] [G loss: 2.157234] [Elapsed time: 2606.63s]\n",
            "[Epoch 197/200] [D loss: 0.098779] [G loss: 4.020101] [Elapsed time: 2619.59s]\n",
            "[Epoch 198/200] [D loss: 0.273431] [G loss: 5.469628] [Elapsed time: 2632.60s]\n",
            "[Epoch 199/200] [D loss: 0.194138] [G loss: 2.642223] [Elapsed time: 2645.53s]\n"
          ],
          "name": "stdout"
        }
      ]
    },
    {
      "cell_type": "markdown",
      "metadata": {
        "id": "dKhzqw6U8u-H"
      },
      "source": [
        "* 생성된 이미지 예시를 출력합니다."
      ]
    },
    {
      "cell_type": "code",
      "metadata": {
        "colab": {
          "base_uri": "https://localhost:8080/",
          "height": 169
        },
        "id": "FeC3eMGa8vc1",
        "outputId": "491eda39-dcc2-4e0c-f6cf-f0e1c95d232a"
      },
      "source": [
        "from IPython.display import Image\r\n",
        "\r\n",
        "Image('92000.png')"
      ],
      "execution_count": 7,
      "outputs": [
        {
          "output_type": "execute_result",
          "data": {
            "image/png": "[encoded data removed]",
            "text/plain": [
              "<IPython.core.display.Image object>"
            ]
          },
          "metadata": {
            "tags": []
          },
          "execution_count": 7
        }
      ]
    }
  ]
}